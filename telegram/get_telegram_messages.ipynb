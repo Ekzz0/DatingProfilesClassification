{
 "cells": [
  {
   "cell_type": "code",
   "execution_count": 1,
   "outputs": [],
   "source": [
    "import random\n",
    "from config import api_id, api_hash, phone\n",
    "from telethon.sync import TelegramClient\n",
    "import csv\n",
    "import asyncio\n",
    "import nest_asyncio\n",
    "import asyncstdlib as a\n",
    "\n",
    "nest_asyncio.apply()"
   ],
   "metadata": {
    "collapsed": false,
    "pycharm": {
     "name": "#%%\n"
    }
   }
  },
  {
   "cell_type": "code",
   "execution_count": 4,
   "outputs": [
    {
     "name": "stdout",
     "output_type": "stream",
     "text": [
      "0\n"
     ]
    }
   ],
   "source": [
    "def get_dialog_index(dialogs):\n",
    "    for i, d in enumerate(dialogs):\n",
    "        if d[1] == chat_name:\n",
    "            g_index = i\n",
    "            return g_index\n",
    "\n",
    "\n",
    "async def main(client, chat_name):\n",
    "    async with client:\n",
    "        dialogs = []\n",
    "        async for dialog in client.iter_dialogs():\n",
    "            dialogs.append((dialog.id, dialog.title))\n",
    "\n",
    "        limit_msg = 100   # максимальное число записей, передаваемых за один раз\n",
    "        with open(\"../data/chats.csv\", \"w\", encoding=\"UTF-8\") as f:\n",
    "            writer = csv.writer(f, delimiter=\",\", lineterminator=\"\\n\")\n",
    "            writer.writerow(['id', 'text', 'date', 'photo'])\n",
    "\n",
    "            async for i, message in a.enumerate(client.iter_messages(chat_name)):\n",
    "                # print(message.id, message.text)\n",
    "                m = [message.id, message.text, message.date, message.photo]\n",
    "                writer.writerow(m)\n",
    "                await client.download_media(message.photo, file=f'../data/photos/{message.id}_{round(random.random(), 2)*10}.png')\n",
    "                if i % 1000 == 0:\n",
    "                    print(i)\n",
    "                if limit_msg:\n",
    "                    if i == limit_msg:\n",
    "                        break\n",
    "\n",
    "\n",
    "\n",
    "if __name__ == '__main__':\n",
    "    client = TelegramClient(phone, api_id, api_hash, system_version=\"4.16.30-vxCUSTOM\")\n",
    "    chat_name = 'Дайвинчик | Leo – знакомства, общение и новые друзья'\n",
    "\n",
    "    loop = asyncio.get_event_loop()\n",
    "    loop.run_until_complete(main(client, chat_name))\n",
    "\n"
   ],
   "metadata": {
    "collapsed": false,
    "pycharm": {
     "name": "#%%\n"
    }
   }
  },
  {
   "cell_type": "code",
   "execution_count": null,
   "outputs": [],
   "source": [],
   "metadata": {
    "collapsed": false,
    "pycharm": {
     "name": "#%%\n"
    }
   }
  },
  {
   "cell_type": "code",
   "execution_count": null,
   "outputs": [],
   "source": [],
   "metadata": {
    "collapsed": false,
    "pycharm": {
     "name": "#%%\n"
    }
   }
  }
 ],
 "metadata": {
  "kernelspec": {
   "display_name": "Python 3",
   "language": "python",
   "name": "python3"
  },
  "language_info": {
   "codemirror_mode": {
    "name": "ipython",
    "version": 2
   },
   "file_extension": ".py",
   "mimetype": "text/x-python",
   "name": "python",
   "nbconvert_exporter": "python",
   "pygments_lexer": "ipython2",
   "version": "2.7.6"
  }
 },
 "nbformat": 4,
 "nbformat_minor": 0
}