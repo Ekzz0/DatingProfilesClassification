{
 "cells": [
  {
   "cell_type": "code",
   "execution_count": 1,
   "outputs": [],
   "source": [
    "%reset"
   ],
   "metadata": {
    "collapsed": false,
    "pycharm": {
     "name": "#%%\n"
    }
   }
  },
  {
   "cell_type": "code",
   "execution_count": 2,
   "outputs": [],
   "source": [
    "import DatingProfilesClassification.utils as ut"
   ],
   "metadata": {
    "collapsed": false,
    "pycharm": {
     "name": "#%%\n"
    }
   }
  },
  {
   "cell_type": "code",
   "execution_count": 3,
   "outputs": [],
   "source": [
    "path = \"data/to_test.csv\"\n",
    "\n",
    "# Выделение основных признаков\n",
    "df, cols = ut.select_the_main_features(path)\n",
    "\n",
    "# Сохранение несбалансированного датасета\n",
    "name = 'test_data.csv'\n",
    "df.to_csv(f\"data/{name}\")\n"
   ],
   "metadata": {
    "collapsed": false,
    "pycharm": {
     "name": "#%%\n"
    }
   }
  },
  {
   "cell_type": "code",
   "execution_count": 4,
   "outputs": [
    {
     "data": {
      "text/plain": "                                               message  class  \\\n0                       Екатерина, 23, Санкт-Петербург    0.0   \n1        Екатерина, 24, Санкт-Петербург – Живу жизнь 🌿    0.0   \n2                 Ksenia, 22, Санкт Петербург – Хватит    0.0   \n3                            Леся, 23, Санкт-Петербург    0.0   \n4           Хома🖤, 22, Санкт-Петербург – -19-\\r\\n+size    0.0   \n..                                                 ...    ...   \n250                          ширин, 22, Санк-Петербург    0.0   \n251  K, 22, Санкт-Петербург – Ищу интересного собес...    0.0   \n252  Маша, 22, Санкт-Петербург – в театр сходим или...    0.0   \n253  Лия, 22, Санкт Петербург – Живу в Питере ) общ...    0.0   \n254     Таня, 22, Санкт-Петербург – Inst: floppushka🧸🎀    1.0   \n\n                          date  \\\n0    2023-10-31 07:54:31+00:00   \n1    2023-10-31 07:54:28+00:00   \n2    2023-10-31 07:54:27+00:00   \n3    2023-10-31 07:54:26+00:00   \n4    2023-10-31 07:54:24+00:00   \n..                         ...   \n250  2023-10-30 22:52:45+00:00   \n251  2023-10-30 22:52:41+00:00   \n252  2023-10-30 22:52:32+00:00   \n253  2023-10-30 22:52:29+00:00   \n254  2023-10-30 22:52:17+00:00   \n\n                                                 photo  name   old  \\\n0    Photo(id=5438314846513903998, access_hash=-124...   2.0  23.0   \n1    Photo(id=5456659708397079157, access_hash=-538...   2.0  24.0   \n2    Photo(id=5212939766255960539, access_hash=-742...   3.0  22.0   \n3    Photo(id=5417912244324387774, access_hash=-865...   2.0  23.0   \n4    Photo(id=5422687182805650108, access_hash=-612...   0.0  22.0   \n..                                                 ...   ...   ...   \n250  Photo(id=5280992767146838379, access_hash=-864...   3.0  22.0   \n251  Photo(id=5452082475850384549, access_hash=2992...   0.0  22.0   \n252  Photo(id=5463098830741427835, access_hash=6964...   3.0  22.0   \n253  Photo(id=5435893008944978142, access_hash=6256...   0.0  22.0   \n254  Photo(id=5253758869149176615, access_hash=-849...   3.0  22.0   \n\n     distance_to  height  romantic_relationships  fwb_ons  not_looking_for  \\\n0              0       0                       0        0                0   \n1              0       0                       0        0                0   \n2              0       0                       0        0                0   \n3              0       0                       0        0                0   \n4              0       0                       0        0                0   \n..           ...     ...                     ...      ...              ...   \n250            0       0                       0        0                0   \n251            0       0                       0        0                0   \n252            0       0                       0        0                0   \n253            0       0                       0        0                0   \n254            0       0                       0        0                0   \n\n     inst  cringe_phrase  similar_interests  \\\n0       0              0                  0   \n1       0              0                  0   \n2       0              0                  0   \n3       0              0                  0   \n4       0             -3                  0   \n..    ...            ...                ...   \n250     0              0                  0   \n251     0              0                  0   \n252     0             -3                  0   \n253     0              0                  0   \n254     0              0                  0   \n\n                                            clean_text  is_empty  message_len  \\\n0                                                              2            0   \n1                                          живу жизнь          0           11   \n2                                               хватит         0            6   \n3                                                              2            0   \n4                                                 size         0            5   \n..                                                 ...       ...          ...   \n250                                                            2            0   \n251  ищу интересного собеседника не отношения люблю...         0          109   \n252  в театр сходим или пиво выпьем предвосхищая вс...         0           85   \n253            живу в питере общение а там как пойдет          0           39   \n254                                   inst floppushka          0           16   \n\n     sum  \n0      2  \n1      0  \n2      0  \n3      2  \n4     -3  \n..   ...  \n250    2  \n251    0  \n252   -3  \n253    0  \n254    0  \n\n[255 rows x 18 columns]",
      "text/html": "<div>\n<style scoped>\n    .dataframe tbody tr th:only-of-type {\n        vertical-align: middle;\n    }\n\n    .dataframe tbody tr th {\n        vertical-align: top;\n    }\n\n    .dataframe thead th {\n        text-align: right;\n    }\n</style>\n<table border=\"1\" class=\"dataframe\">\n  <thead>\n    <tr style=\"text-align: right;\">\n      <th></th>\n      <th>message</th>\n      <th>class</th>\n      <th>date</th>\n      <th>photo</th>\n      <th>name</th>\n      <th>old</th>\n      <th>distance_to</th>\n      <th>height</th>\n      <th>romantic_relationships</th>\n      <th>fwb_ons</th>\n      <th>not_looking_for</th>\n      <th>inst</th>\n      <th>cringe_phrase</th>\n      <th>similar_interests</th>\n      <th>clean_text</th>\n      <th>is_empty</th>\n      <th>message_len</th>\n      <th>sum</th>\n    </tr>\n  </thead>\n  <tbody>\n    <tr>\n      <th>0</th>\n      <td>Екатерина, 23, Санкт-Петербург</td>\n      <td>0.0</td>\n      <td>2023-10-31 07:54:31+00:00</td>\n      <td>Photo(id=5438314846513903998, access_hash=-124...</td>\n      <td>2.0</td>\n      <td>23.0</td>\n      <td>0</td>\n      <td>0</td>\n      <td>0</td>\n      <td>0</td>\n      <td>0</td>\n      <td>0</td>\n      <td>0</td>\n      <td>0</td>\n      <td></td>\n      <td>2</td>\n      <td>0</td>\n      <td>2</td>\n    </tr>\n    <tr>\n      <th>1</th>\n      <td>Екатерина, 24, Санкт-Петербург – Живу жизнь 🌿</td>\n      <td>0.0</td>\n      <td>2023-10-31 07:54:28+00:00</td>\n      <td>Photo(id=5456659708397079157, access_hash=-538...</td>\n      <td>2.0</td>\n      <td>24.0</td>\n      <td>0</td>\n      <td>0</td>\n      <td>0</td>\n      <td>0</td>\n      <td>0</td>\n      <td>0</td>\n      <td>0</td>\n      <td>0</td>\n      <td>живу жизнь</td>\n      <td>0</td>\n      <td>11</td>\n      <td>0</td>\n    </tr>\n    <tr>\n      <th>2</th>\n      <td>Ksenia, 22, Санкт Петербург – Хватит</td>\n      <td>0.0</td>\n      <td>2023-10-31 07:54:27+00:00</td>\n      <td>Photo(id=5212939766255960539, access_hash=-742...</td>\n      <td>3.0</td>\n      <td>22.0</td>\n      <td>0</td>\n      <td>0</td>\n      <td>0</td>\n      <td>0</td>\n      <td>0</td>\n      <td>0</td>\n      <td>0</td>\n      <td>0</td>\n      <td>хватит</td>\n      <td>0</td>\n      <td>6</td>\n      <td>0</td>\n    </tr>\n    <tr>\n      <th>3</th>\n      <td>Леся, 23, Санкт-Петербург</td>\n      <td>0.0</td>\n      <td>2023-10-31 07:54:26+00:00</td>\n      <td>Photo(id=5417912244324387774, access_hash=-865...</td>\n      <td>2.0</td>\n      <td>23.0</td>\n      <td>0</td>\n      <td>0</td>\n      <td>0</td>\n      <td>0</td>\n      <td>0</td>\n      <td>0</td>\n      <td>0</td>\n      <td>0</td>\n      <td></td>\n      <td>2</td>\n      <td>0</td>\n      <td>2</td>\n    </tr>\n    <tr>\n      <th>4</th>\n      <td>Хома🖤, 22, Санкт-Петербург – -19-\\r\\n+size</td>\n      <td>0.0</td>\n      <td>2023-10-31 07:54:24+00:00</td>\n      <td>Photo(id=5422687182805650108, access_hash=-612...</td>\n      <td>0.0</td>\n      <td>22.0</td>\n      <td>0</td>\n      <td>0</td>\n      <td>0</td>\n      <td>0</td>\n      <td>0</td>\n      <td>0</td>\n      <td>-3</td>\n      <td>0</td>\n      <td>size</td>\n      <td>0</td>\n      <td>5</td>\n      <td>-3</td>\n    </tr>\n    <tr>\n      <th>...</th>\n      <td>...</td>\n      <td>...</td>\n      <td>...</td>\n      <td>...</td>\n      <td>...</td>\n      <td>...</td>\n      <td>...</td>\n      <td>...</td>\n      <td>...</td>\n      <td>...</td>\n      <td>...</td>\n      <td>...</td>\n      <td>...</td>\n      <td>...</td>\n      <td>...</td>\n      <td>...</td>\n      <td>...</td>\n      <td>...</td>\n    </tr>\n    <tr>\n      <th>250</th>\n      <td>ширин, 22, Санк-Петербург</td>\n      <td>0.0</td>\n      <td>2023-10-30 22:52:45+00:00</td>\n      <td>Photo(id=5280992767146838379, access_hash=-864...</td>\n      <td>3.0</td>\n      <td>22.0</td>\n      <td>0</td>\n      <td>0</td>\n      <td>0</td>\n      <td>0</td>\n      <td>0</td>\n      <td>0</td>\n      <td>0</td>\n      <td>0</td>\n      <td></td>\n      <td>2</td>\n      <td>0</td>\n      <td>2</td>\n    </tr>\n    <tr>\n      <th>251</th>\n      <td>K, 22, Санкт-Петербург – Ищу интересного собес...</td>\n      <td>0.0</td>\n      <td>2023-10-30 22:52:41+00:00</td>\n      <td>Photo(id=5452082475850384549, access_hash=2992...</td>\n      <td>0.0</td>\n      <td>22.0</td>\n      <td>0</td>\n      <td>0</td>\n      <td>0</td>\n      <td>0</td>\n      <td>0</td>\n      <td>0</td>\n      <td>0</td>\n      <td>0</td>\n      <td>ищу интересного собеседника не отношения люблю...</td>\n      <td>0</td>\n      <td>109</td>\n      <td>0</td>\n    </tr>\n    <tr>\n      <th>252</th>\n      <td>Маша, 22, Санкт-Петербург – в театр сходим или...</td>\n      <td>0.0</td>\n      <td>2023-10-30 22:52:32+00:00</td>\n      <td>Photo(id=5463098830741427835, access_hash=6964...</td>\n      <td>3.0</td>\n      <td>22.0</td>\n      <td>0</td>\n      <td>0</td>\n      <td>0</td>\n      <td>0</td>\n      <td>0</td>\n      <td>0</td>\n      <td>-3</td>\n      <td>0</td>\n      <td>в театр сходим или пиво выпьем предвосхищая вс...</td>\n      <td>0</td>\n      <td>85</td>\n      <td>-3</td>\n    </tr>\n    <tr>\n      <th>253</th>\n      <td>Лия, 22, Санкт Петербург – Живу в Питере ) общ...</td>\n      <td>0.0</td>\n      <td>2023-10-30 22:52:29+00:00</td>\n      <td>Photo(id=5435893008944978142, access_hash=6256...</td>\n      <td>0.0</td>\n      <td>22.0</td>\n      <td>0</td>\n      <td>0</td>\n      <td>0</td>\n      <td>0</td>\n      <td>0</td>\n      <td>0</td>\n      <td>0</td>\n      <td>0</td>\n      <td>живу в питере общение а там как пойдет</td>\n      <td>0</td>\n      <td>39</td>\n      <td>0</td>\n    </tr>\n    <tr>\n      <th>254</th>\n      <td>Таня, 22, Санкт-Петербург – Inst: floppushka🧸🎀</td>\n      <td>1.0</td>\n      <td>2023-10-30 22:52:17+00:00</td>\n      <td>Photo(id=5253758869149176615, access_hash=-849...</td>\n      <td>3.0</td>\n      <td>22.0</td>\n      <td>0</td>\n      <td>0</td>\n      <td>0</td>\n      <td>0</td>\n      <td>0</td>\n      <td>0</td>\n      <td>0</td>\n      <td>0</td>\n      <td>inst floppushka</td>\n      <td>0</td>\n      <td>16</td>\n      <td>0</td>\n    </tr>\n  </tbody>\n</table>\n<p>255 rows × 18 columns</p>\n</div>"
     },
     "execution_count": 4,
     "metadata": {},
     "output_type": "execute_result"
    }
   ],
   "source": [
    "df"
   ],
   "metadata": {
    "collapsed": false,
    "pycharm": {
     "name": "#%%\n"
    }
   }
  },
  {
   "cell_type": "code",
   "execution_count": 4,
   "outputs": [],
   "source": [],
   "metadata": {
    "collapsed": false,
    "pycharm": {
     "name": "#%%\n"
    }
   }
  }
 ],
 "metadata": {
  "kernelspec": {
   "display_name": "Python 3",
   "language": "python",
   "name": "python3"
  },
  "language_info": {
   "codemirror_mode": {
    "name": "ipython",
    "version": 2
   },
   "file_extension": ".py",
   "mimetype": "text/x-python",
   "name": "python",
   "nbconvert_exporter": "python",
   "pygments_lexer": "ipython2",
   "version": "2.7.6"
  }
 },
 "nbformat": 4,
 "nbformat_minor": 0
}