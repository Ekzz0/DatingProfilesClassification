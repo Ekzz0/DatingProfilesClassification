{
 "cells": [
  {
   "cell_type": "code",
   "execution_count": 4,
   "outputs": [],
   "source": [
    "import pandas as pd\n",
    "from sklearn.metrics import roc_auc_score, accuracy_score, f1_score, recall_score, classification_report, confusion_matrix\n",
    "import utils as ut\n",
    "import matplotlib.pyplot as plt\n",
    "import numpy as np\n",
    "from sklearn.neighbors import KNeighborsClassifier\n",
    "from sklearn.ensemble import AdaBoostClassifier\n",
    "from sklearn.model_selection import cross_val_score, GridSearchCV, train_test_split\n",
    "\n",
    "import warnings\n",
    "\n",
    "warnings.filterwarnings(\"ignore\")\n",
    "pd.options.mode.chained_assignment = None"
   ],
   "metadata": {
    "collapsed": false,
    "pycharm": {
     "name": "#%%\n"
    }
   }
  },
  {
   "cell_type": "code",
   "execution_count": 5,
   "outputs": [],
   "source": [
    "df = pd.read_csv('data/balanced_data.csv')\n",
    "df = df.drop(columns=['Unnamed: 0'])"
   ],
   "metadata": {
    "collapsed": false,
    "pycharm": {
     "name": "#%%\n"
    }
   }
  },
  {
   "cell_type": "code",
   "execution_count": 6,
   "outputs": [],
   "source": [
    "# # Разделяем датасет на X, y\n",
    "X, y = ut.split_to_x_y(df, 'class')"
   ],
   "metadata": {
    "collapsed": false,
    "pycharm": {
     "name": "#%%\n"
    }
   }
  },
  {
   "cell_type": "code",
   "execution_count": 7,
   "outputs": [
    {
     "data": {
      "text/plain": "Index(['message', 'date', 'photo', 'name', 'old', 'distance_to', 'height',\n       'romantic_relationships', 'fwb_ons', 'not_looking_for', 'inst',\n       'cringe_phrase', 'similar_interests', 'clean_text', 'is_empty',\n       'message_len', 'sum'],\n      dtype='object')"
     },
     "execution_count": 7,
     "metadata": {},
     "output_type": "execute_result"
    }
   ],
   "source": [
    "X.columns"
   ],
   "metadata": {
    "collapsed": false,
    "pycharm": {
     "name": "#%%\n"
    }
   }
  },
  {
   "cell_type": "code",
   "execution_count": 8,
   "outputs": [],
   "source": [
    "# Удалим ненужные столбцы:\n",
    "columns_to_drop = [\"message\", \"date\", \"photo\", 'clean_text', 'inst', 'distance_to', 'fwb_ons', 'name']\n",
    "X.drop(columns=columns_to_drop, inplace=True)"
   ],
   "metadata": {
    "collapsed": false,
    "pycharm": {
     "name": "#%%\n"
    }
   }
  },
  {
   "cell_type": "code",
   "execution_count": 9,
   "outputs": [],
   "source": [
    "X_train, X_test, y_train, y_test = train_test_split(X, y, test_size = 0.2, random_state = 42)"
   ],
   "metadata": {
    "collapsed": false,
    "pycharm": {
     "name": "#%%\n"
    }
   }
  },
  {
   "cell_type": "markdown",
   "source": [
    "## RandomForest & XGBoost"
   ],
   "metadata": {
    "collapsed": false,
    "pycharm": {
     "name": "#%% md\n"
    }
   }
  },
  {
   "cell_type": "code",
   "execution_count": 10,
   "outputs": [],
   "source": [
    "# Данные для тюнинга\n",
    "eval_data = {'X_train': X_train, 'X_test': X_test, 'y_train': y_train, 'y_test': y_test}\n",
    "max_evals = 25\n",
    "metric = roc_auc_score  # f1_score, roc_auc_score, accuracy_score, recall_score\n",
    "\n",
    "is_tuning = False\n",
    "is_save = False\n",
    "save_name = ''\n",
    "load_name = '_best'\n",
    "cv = 3\n",
    "__spec__ = None\n",
    "rf_model, rf_pred, xgb_model, xgb_pred = ut.tuning(is_tuning, eval_data, metric, max_evals, save_name, load_name)"
   ],
   "metadata": {
    "collapsed": false,
    "pycharm": {
     "name": "#%%\n"
    }
   }
  },
  {
   "cell_type": "markdown",
   "source": [
    "## kNN:"
   ],
   "metadata": {
    "collapsed": false,
    "pycharm": {
     "name": "#%% md\n"
    }
   }
  },
  {
   "cell_type": "code",
   "execution_count": 11,
   "outputs": [],
   "source": [
    "if is_tuning:\n",
    "    test_score = {}\n",
    "    n_neighbors = np.arange(2, 30, 1)\n",
    "    for neighbor in n_neighbors:\n",
    "        knn = KNeighborsClassifier(n_neighbors=neighbor)\n",
    "        knn.fit(X_train, y_train.values.ravel())\n",
    "        test_score[neighbor] = metric(y_true=y_test, y_score=knn.predict(X_test))\n",
    "\n",
    "    for key, value in test_score.items():\n",
    "        if value==max(test_score.values()):\n",
    "            n_best = key\n",
    "            print('n_best:', n_best)\n",
    "\n",
    "    knn = KNeighborsClassifier(n_neighbors=n_best)\n",
    "    knn.fit(X_train, y_train.values.ravel())\n",
    "    ut.save_model(knn, f'./models/knn{save_name}.pkl')\n",
    "else:\n",
    "    knn = ut.load_model(f'./models/knn{load_name}.pkl')\n"
   ],
   "metadata": {
    "collapsed": false,
    "pycharm": {
     "name": "#%%\n"
    }
   }
  },
  {
   "cell_type": "code",
   "execution_count": 12,
   "outputs": [],
   "source": [
    "knn_pred = knn.predict(X_test)"
   ],
   "metadata": {
    "collapsed": false,
    "pycharm": {
     "name": "#%%\n"
    }
   }
  },
  {
   "cell_type": "markdown",
   "source": [
    "## AdaBoostClassifier"
   ],
   "metadata": {
    "collapsed": false,
    "pycharm": {
     "name": "#%% md\n"
    }
   }
  },
  {
   "cell_type": "code",
   "execution_count": 13,
   "outputs": [],
   "source": [
    "if is_tuning:\n",
    "    adaboost = AdaBoostClassifier(random_state=42)\n",
    "\n",
    "    parameters = {\n",
    "        'n_estimators': [2, 3, 4, 5, 6, 7, 8, 9, 10, 11, 12, 20],\n",
    "        'learning_rate': [(0.97 + x / 100) for x in range(0, 8)],\n",
    "        'algorithm': ['SAMME', 'SAMME.R']\n",
    "    }\n",
    "    clf = GridSearchCV(adaboost, parameters, cv=5)\n",
    "    clf.fit(X_train, y_train.values.ravel())\n",
    "    adb_model = clf.best_estimator_\n",
    "    ut.save_model(adb_model, f'./models/adaboost{save_name}.pkl')\n",
    "else:\n",
    "    adb_model = ut.load_model(f'./models/adaboost{load_name}.pkl')\n",
    "\n",
    "adb_pred = adb_model.predict(X_test)"
   ],
   "metadata": {
    "collapsed": false,
    "pycharm": {
     "name": "#%%\n"
    }
   }
  },
  {
   "cell_type": "markdown",
   "source": [
    "## BernoulliNB"
   ],
   "metadata": {
    "collapsed": false,
    "pycharm": {
     "name": "#%% md\n"
    }
   }
  },
  {
   "cell_type": "code",
   "execution_count": 14,
   "outputs": [],
   "source": [
    "from sklearn.naive_bayes import BernoulliNB\n",
    "\n",
    "if is_tuning:\n",
    "    params = {'alpha': [0.01, 0.1, 0.5, 1.0, 10.0],\n",
    "              'fit_prior': [True, False],\n",
    "              'class_prior': [None, [0.1,] * 2],\n",
    "              'binarize': [None, 0.0, 8.5, 10.0]\n",
    "              }\n",
    "\n",
    "    clf = GridSearchCV(BernoulliNB(), param_grid=params, cv=5)\n",
    "    clf.fit(X_train, y_train.values.ravel())\n",
    "\n",
    "    BNB = clf.best_estimator_\n",
    "    ut.save_model(BNB, f'./models/naive_bayes{save_name}.pkl')\n",
    "else:\n",
    "    BNB = ut.load_model(f'./models/naive_bayes{load_name}.pkl')\n",
    "\n",
    "bnb_pred = BNB.predict(X_test)"
   ],
   "metadata": {
    "collapsed": false,
    "pycharm": {
     "name": "#%%\n"
    }
   }
  },
  {
   "cell_type": "markdown",
   "source": [
    "**Метрики на сбалансированном датасете:**"
   ],
   "metadata": {
    "collapsed": false,
    "pycharm": {
     "name": "#%% md\n"
    }
   }
  },
  {
   "cell_type": "code",
   "execution_count": 15,
   "outputs": [
    {
     "name": "stdout",
     "output_type": "stream",
     "text": [
      "BernoulliNB\n",
      "               precision    recall  f1-score   support\n",
      "\n",
      "         0.0       0.71      0.95      0.81       439\n",
      "         1.0       0.95      0.70      0.80       565\n",
      "\n",
      "    accuracy                           0.81      1004\n",
      "   macro avg       0.83      0.82      0.81      1004\n",
      "weighted avg       0.84      0.81      0.81      1004\n",
      "\n",
      "ROC_AUC_SCORE: 0.8247545709274902 CV_SCORE: 0.8077844311377246 [0.79104478 0.80895522 0.82335329]\n"
     ]
    }
   ],
   "source": [
    "print('BernoulliNB\\n', classification_report(y_pred=bnb_pred, y_true=y_test))\n",
    "cv_score = cross_val_score(BNB, X_test, y_test.values.ravel(), cv=cv)\n",
    "print('ROC_AUC_SCORE:', roc_auc_score(y_score=bnb_pred, y_true=y_test), 'CV_SCORE:', cv_score.mean(), cv_score)"
   ],
   "metadata": {
    "collapsed": false,
    "pycharm": {
     "name": "#%%\n"
    }
   }
  },
  {
   "cell_type": "code",
   "execution_count": 16,
   "outputs": [
    {
     "name": "stdout",
     "output_type": "stream",
     "text": [
      "KNNClassifier\n",
      "               precision    recall  f1-score   support\n",
      "\n",
      "         0.0       0.73      0.91      0.81       439\n",
      "         1.0       0.91      0.74      0.82       565\n",
      "\n",
      "    accuracy                           0.81      1004\n",
      "   macro avg       0.82      0.82      0.81      1004\n",
      "weighted avg       0.83      0.81      0.82      1004\n",
      "\n",
      "ROC_AUC_SCORE: 0.8249843772048299 CV_SCORE: 0.7769148270622933 [0.77014925 0.76119403 0.7994012 ]\n"
     ]
    }
   ],
   "source": [
    "print('KNNClassifier\\n', classification_report(y_pred=knn_pred, y_true=y_test))\n",
    "cv_score = cross_val_score(knn, X_test, y_test.values.ravel(), cv=cv)\n",
    "print('ROC_AUC_SCORE:', roc_auc_score(y_score=knn_pred, y_true=y_test), 'CV_SCORE:', cv_score.mean(), cv_score)"
   ],
   "metadata": {
    "collapsed": false,
    "pycharm": {
     "name": "#%%\n"
    }
   }
  },
  {
   "cell_type": "code",
   "execution_count": 17,
   "outputs": [
    {
     "name": "stdout",
     "output_type": "stream",
     "text": [
      "AdaBoostClassifier\n",
      "               precision    recall  f1-score   support\n",
      "\n",
      "         0.0       0.78      1.00      0.88       439\n",
      "         1.0       1.00      0.78      0.88       565\n",
      "\n",
      "    accuracy                           0.88      1004\n",
      "   macro avg       0.89      0.89      0.88      1004\n",
      "weighted avg       0.90      0.88      0.88      1004\n",
      "\n",
      "ROC_AUC_SCORE: 0.8893805309734513 CV_SCORE: 0.8755027258915006 [0.87164179 0.87462687 0.88023952]\n"
     ]
    }
   ],
   "source": [
    "print('AdaBoostClassifier\\n', classification_report(y_pred=adb_pred, y_true=y_test))\n",
    "cv_score = cross_val_score(adb_model, X_test, y_test.values.ravel(), cv=cv)\n",
    "print('ROC_AUC_SCORE:', roc_auc_score(y_score=adb_pred, y_true=y_test), 'CV_SCORE:', cv_score.mean(), cv_score)\n",
    "\n"
   ],
   "metadata": {
    "collapsed": false,
    "pycharm": {
     "name": "#%%\n"
    }
   }
  },
  {
   "cell_type": "code",
   "execution_count": 18,
   "outputs": [
    {
     "name": "stdout",
     "output_type": "stream",
     "text": [
      "RandomForestClassifier\n",
      "               precision    recall  f1-score   support\n",
      "\n",
      "         0.0       0.90      0.86      0.88       439\n",
      "         1.0       0.90      0.93      0.91       565\n",
      "\n",
      "    accuracy                           0.90      1004\n",
      "   macro avg       0.90      0.90      0.90      1004\n",
      "weighted avg       0.90      0.90      0.90      1004\n",
      "\n",
      "ROC_AUC_SCORE: 0.8962646400709577 CV_SCORE: 0.8794858045103822 [0.86865672 0.88656716 0.88323353]\n"
     ]
    }
   ],
   "source": [
    "print('RandomForestClassifier\\n', classification_report(y_pred=rf_pred, y_true=y_test))\n",
    "cv_score = cross_val_score(rf_model, X_test, y_test.values.ravel(), cv=cv)\n",
    "print('ROC_AUC_SCORE:', roc_auc_score(y_score=rf_pred, y_true=y_test), 'CV_SCORE:', cv_score.mean(), cv_score)\n"
   ],
   "metadata": {
    "collapsed": false,
    "pycharm": {
     "name": "#%%\n"
    }
   }
  },
  {
   "cell_type": "code",
   "execution_count": 19,
   "outputs": [
    {
     "name": "stdout",
     "output_type": "stream",
     "text": [
      "XGBoostClassifier\n",
      "               precision    recall  f1-score   support\n",
      "\n",
      "         0.0       0.90      0.86      0.88       439\n",
      "         1.0       0.90      0.93      0.91       565\n",
      "\n",
      "    accuracy                           0.90      1004\n",
      "   macro avg       0.90      0.90      0.90      1004\n",
      "weighted avg       0.90      0.90      0.90      1004\n",
      "\n",
      "ROC_AUC_SCORE: 0.8962646400709577 CV_SCORE: 0.8217386123275836 [0.80298507 0.81492537 0.84730539]\n"
     ]
    }
   ],
   "source": [
    "print('XGBoostClassifier\\n', classification_report(y_pred=xgb_pred, y_true=y_test))\n",
    "cv_score = cross_val_score(xgb_model, X_test, y_test.values.ravel(), cv=cv)\n",
    "print('ROC_AUC_SCORE:', roc_auc_score(y_score=xgb_pred, y_true=y_test), 'CV_SCORE:', cv_score.mean(), cv_score)"
   ],
   "metadata": {
    "collapsed": false,
    "pycharm": {
     "name": "#%%\n"
    }
   }
  },
  {
   "cell_type": "code",
   "execution_count": 20,
   "outputs": [
    {
     "data": {
      "text/plain": "<Figure size 600x400 with 1 Axes>",
      "image/png": "[encoded data removed]"
     },
     "metadata": {},
     "output_type": "display_data"
    }
   ],
   "source": [
    "ut.plot_feature_importance(xgb_model.feature_importances_,X_train.columns,'XGBoost')\n",
    "if is_save:\n",
    "    plt.savefig('./img/XGB.png', bbox_inches=\"tight\")"
   ],
   "metadata": {
    "collapsed": false,
    "pycharm": {
     "name": "#%%\n"
    }
   }
  },
  {
   "cell_type": "code",
   "execution_count": 21,
   "outputs": [
    {
     "data": {
      "text/plain": "<Figure size 600x400 with 1 Axes>",
      "image/png": "[encoded data removed]"
     },
     "metadata": {},
     "output_type": "display_data"
    }
   ],
   "source": [
    "ut.plot_feature_importance(adb_model.feature_importances_,X_train.columns,'AdaBoost')\n",
    "if is_save:\n",
    "    plt.savefig('./img/ADB.png', bbox_inches=\"tight\")"
   ],
   "metadata": {
    "collapsed": false,
    "pycharm": {
     "name": "#%%\n"
    }
   }
  },
  {
   "cell_type": "code",
   "execution_count": 22,
   "outputs": [
    {
     "data": {
      "text/plain": "<Figure size 600x400 with 1 Axes>",
      "image/png": "[encoded data removed]"
     },
     "metadata": {},
     "output_type": "display_data"
    }
   ],
   "source": [
    "ut.plot_feature_importance(rf_model.feature_importances_,X_train.columns,'RANDOM FOREST')\n",
    "if is_save:\n",
    "    plt.savefig('./img/RF.png', bbox_inches=\"tight\")\n"
   ],
   "metadata": {
    "collapsed": false,
    "pycharm": {
     "name": "#%%\n"
    }
   }
  },
  {
   "cell_type": "markdown",
   "source": [
    "## Протестируем модель на \"реальном эксперименте, а именно:\n",
    "- были пролайканы несколько анкет (n штук) в режиме реального времени\n",
    "- будет применена модель для сравнения с \"реальной\" ситуацией"
   ],
   "metadata": {
    "collapsed": false,
    "pycharm": {
     "name": "#%% md\n"
    }
   }
  },
  {
   "cell_type": "code",
   "execution_count": 23,
   "outputs": [],
   "source": [
    "df_real = pd.read_csv('data/test_data.csv')\n",
    "df_real = df_real.drop(columns=['Unnamed: 0'])\n",
    "\n",
    "# # Разделяем датасет на X, y\n",
    "X_real, y_real = ut.split_to_x_y(df_real, 'class')"
   ],
   "metadata": {
    "collapsed": false,
    "pycharm": {
     "name": "#%%\n"
    }
   }
  },
  {
   "cell_type": "code",
   "execution_count": 24,
   "outputs": [
    {
     "data": {
      "text/plain": "Index(['message', 'date', 'photo', 'name', 'old', 'distance_to', 'height',\n       'romantic_relationships', 'fwb_ons', 'not_looking_for', 'inst',\n       'cringe_phrase', 'similar_interests', 'clean_text', 'is_empty',\n       'message_len', 'sum'],\n      dtype='object')"
     },
     "execution_count": 24,
     "metadata": {},
     "output_type": "execute_result"
    }
   ],
   "source": [
    "X_real.columns"
   ],
   "metadata": {
    "collapsed": false,
    "pycharm": {
     "name": "#%%\n"
    }
   }
  },
  {
   "cell_type": "code",
   "execution_count": 25,
   "outputs": [],
   "source": [
    "columns_to_drop_real = columns_to_drop\n",
    "X_real.drop(columns=columns_to_drop_real, inplace=True)"
   ],
   "metadata": {
    "collapsed": false,
    "pycharm": {
     "name": "#%%\n"
    }
   }
  },
  {
   "cell_type": "markdown",
   "source": [
    "**Метрики теста на \"реальном\" датасете:**"
   ],
   "metadata": {
    "collapsed": false,
    "pycharm": {
     "name": "#%% md\n"
    }
   }
  },
  {
   "cell_type": "code",
   "execution_count": 26,
   "outputs": [
    {
     "name": "stdout",
     "output_type": "stream",
     "text": [
      "BernoulliNB:\n",
      "               precision    recall  f1-score   support\n",
      "\n",
      "         0.0       0.73      0.12      0.21       223\n",
      "         1.0       0.10      0.69      0.18        32\n",
      "\n",
      "    accuracy                           0.19       255\n",
      "   macro avg       0.42      0.40      0.19       255\n",
      "weighted avg       0.65      0.19      0.20       255\n",
      "\n",
      "ROC_AUC_SCORE: 0.40428811659192826 CV_SCORE: 0.8745098039215686 [0.88235294 0.87058824 0.87058824]\n"
     ]
    }
   ],
   "source": [
    "print('BernoulliNB:\\n', classification_report(y_pred=BNB.predict(X_real), y_true=y_real))\n",
    "cv_score = cross_val_score(BNB, X_real, y_real.values.ravel(), cv=cv)\n",
    "print('ROC_AUC_SCORE:', roc_auc_score(y_score=BNB.predict(X_real), y_true=y_real), 'CV_SCORE:', cv_score.mean(), cv_score)"
   ],
   "metadata": {
    "collapsed": false,
    "pycharm": {
     "name": "#%%\n"
    }
   }
  },
  {
   "cell_type": "code",
   "execution_count": 27,
   "outputs": [
    {
     "name": "stdout",
     "output_type": "stream",
     "text": [
      "KNNClassifier:\n",
      "               precision    recall  f1-score   support\n",
      "\n",
      "         0.0       0.79      0.17      0.27       223\n",
      "         1.0       0.11      0.69      0.18        32\n",
      "\n",
      "    accuracy                           0.23       255\n",
      "   macro avg       0.45      0.43      0.23       255\n",
      "weighted avg       0.70      0.23      0.26       255\n",
      "\n",
      "ROC_AUC_SCORE: 0.4267096412556054 CV_SCORE: 0.8745098039215686 [0.88235294 0.87058824 0.87058824]\n"
     ]
    }
   ],
   "source": [
    "print('KNNClassifier:\\n', classification_report(y_pred=knn.predict(X_real), y_true=y_real))\n",
    "cv_score = cross_val_score(knn, X_real, y_real.values.ravel(), cv=cv)\n",
    "print('ROC_AUC_SCORE:', roc_auc_score(y_score=knn.predict(X_real), y_true=y_real), 'CV_SCORE:', cv_score.mean(), cv_score)"
   ],
   "metadata": {
    "collapsed": false,
    "pycharm": {
     "name": "#%%\n"
    }
   }
  },
  {
   "cell_type": "code",
   "execution_count": 28,
   "outputs": [
    {
     "name": "stdout",
     "output_type": "stream",
     "text": [
      "AdaBoostClassifier:\n",
      "               precision    recall  f1-score   support\n",
      "\n",
      "         0.0       0.89      0.52      0.65       223\n",
      "         1.0       0.14      0.56      0.23        32\n",
      "\n",
      "    accuracy                           0.52       255\n",
      "   macro avg       0.52      0.54      0.44       255\n",
      "weighted avg       0.80      0.52      0.60       255\n",
      "\n",
      "ROC_AUC_SCORE: 0.539097533632287 CV_SCORE: 0.8745098039215686 [0.88235294 0.87058824 0.87058824]\n"
     ]
    }
   ],
   "source": [
    "print('AdaBoostClassifier:\\n', classification_report(y_pred=adb_model.predict(X_real), y_true=y_real))\n",
    "cv_score = cross_val_score(adb_model, X_real, y_real.values.ravel(), cv=cv)\n",
    "print('ROC_AUC_SCORE:', roc_auc_score(y_score=adb_model.predict(X_real), y_true=y_real), 'CV_SCORE:', cv_score.mean(), cv_score)"
   ],
   "metadata": {
    "collapsed": false,
    "pycharm": {
     "name": "#%%\n"
    }
   }
  },
  {
   "cell_type": "code",
   "execution_count": 29,
   "outputs": [
    {
     "name": "stdout",
     "output_type": "stream",
     "text": [
      "RandomForestClassifier:\n",
      "               precision    recall  f1-score   support\n",
      "\n",
      "         0.0       0.89      0.51      0.65       223\n",
      "         1.0       0.14      0.56      0.23        32\n",
      "\n",
      "    accuracy                           0.52       255\n",
      "   macro avg       0.52      0.54      0.44       255\n",
      "weighted avg       0.80      0.52      0.60       255\n",
      "\n",
      "ROC_AUC_SCORE: 0.5368553811659192 CV_SCORE: 0.8705882352941177 [0.88235294 0.87058824 0.85882353]\n"
     ]
    }
   ],
   "source": [
    "print('RandomForestClassifier:\\n', classification_report(y_pred=rf_model.predict(X_real.values), y_true=y_real))\n",
    "cv_score = cross_val_score(rf_model, X_real, y_real.values.ravel(), cv=cv)\n",
    "print('ROC_AUC_SCORE:', roc_auc_score(y_score=rf_model.predict(X_real), y_true=y_real), 'CV_SCORE:', cv_score.mean(), cv_score)"
   ],
   "metadata": {
    "collapsed": false,
    "pycharm": {
     "name": "#%%\n"
    }
   }
  },
  {
   "cell_type": "code",
   "execution_count": 30,
   "outputs": [
    {
     "name": "stdout",
     "output_type": "stream",
     "text": [
      "XGBoostClassifier:\n",
      "               precision    recall  f1-score   support\n",
      "\n",
      "         0.0       0.84      0.22      0.35       223\n",
      "         1.0       0.12      0.72      0.20        32\n",
      "\n",
      "    accuracy                           0.28       255\n",
      "   macro avg       0.48      0.47      0.27       255\n",
      "weighted avg       0.75      0.28      0.33       255\n",
      "\n",
      "ROC_AUC_SCORE: 0.4692404708520179 CV_SCORE: 0.823529411764706 [0.84705882 0.83529412 0.78823529]\n"
     ]
    }
   ],
   "source": [
    "print('XGBoostClassifier:\\n', classification_report(y_pred=xgb_model.predict(X_real.values), y_true=y_real))\n",
    "cv_score = cross_val_score(xgb_model, X_real, y_real.values.ravel(), cv=cv)\n",
    "print('ROC_AUC_SCORE:', roc_auc_score(y_score=xgb_model.predict(X_real), y_true=y_real), 'CV_SCORE:', cv_score.mean(), cv_score)"
   ],
   "metadata": {
    "collapsed": false,
    "pycharm": {
     "name": "#%%\n"
    }
   }
  },
  {
   "cell_type": "code",
   "execution_count": 31,
   "outputs": [
    {
     "name": "stdout",
     "output_type": "stream",
     "text": [
      "Confusion matrix, without normalization\n",
      "[[114 109]\n",
      " [ 14  18]]\n"
     ]
    },
    {
     "data": {
      "text/plain": "<Figure size 640x480 with 2 Axes>",
      "image/png": "[encoded data removed]"
     },
     "metadata": {},
     "output_type": "display_data"
    }
   ],
   "source": [
    "font = {'size' : 15}\n",
    "\n",
    "plt.rc('font', **font)\n",
    "\n",
    "cnf_matrix = confusion_matrix(y_real, rf_model.predict(X_real.values))\n",
    "ut.plot_confusion_matrix(cnf_matrix, classes=['dislike', 'like'],\n",
    "                      title='Confusion matrix')\n",
    "if is_save:\n",
    "    plt.savefig('./img/c_matrix.png')"
   ],
   "metadata": {
    "collapsed": false,
    "pycharm": {
     "name": "#%%\n"
    }
   }
  },
  {
   "cell_type": "code",
   "execution_count": 32,
   "outputs": [],
   "source": [
    "# pred = pd.Series(xgb_model.predict(X_real.values))\n",
    "# pred.value_counts()"
   ],
   "metadata": {
    "collapsed": false,
    "pycharm": {
     "name": "#%%\n"
    }
   }
  },
  {
   "cell_type": "code",
   "execution_count": 33,
   "outputs": [],
   "source": [
    "# X_real['y_pred'] = pred\n",
    "# X_real['y_true'] = y_real.astype('int')"
   ],
   "metadata": {
    "collapsed": false,
    "pycharm": {
     "name": "#%%\n"
    }
   }
  },
  {
   "cell_type": "code",
   "execution_count": 34,
   "outputs": [],
   "source": [
    "# X_real"
   ],
   "metadata": {
    "collapsed": false,
    "pycharm": {
     "name": "#%%\n"
    }
   }
  },
  {
   "cell_type": "code",
   "execution_count": 34,
   "outputs": [],
   "source": [],
   "metadata": {
    "collapsed": false,
    "pycharm": {
     "name": "#%%\n"
    }
   }
  }
 ],
 "metadata": {
  "kernelspec": {
   "display_name": "Python 3",
   "language": "python",
   "name": "python3"
  },
  "language_info": {
   "codemirror_mode": {
    "name": "ipython",
    "version": 2
   },
   "file_extension": ".py",
   "mimetype": "text/x-python",
   "name": "python",
   "nbconvert_exporter": "python",
   "pygments_lexer": "ipython2",
   "version": "2.7.6"
  }
 },
 "nbformat": 4,
 "nbformat_minor": 0
}