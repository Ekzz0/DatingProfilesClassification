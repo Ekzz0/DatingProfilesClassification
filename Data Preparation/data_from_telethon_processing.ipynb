{
 "cells": [
  {
   "cell_type": "code",
   "execution_count": 1,
   "outputs": [],
   "source": [
    "%reset"
   ],
   "metadata": {
    "collapsed": false,
    "pycharm": {
     "name": "#%%\n"
    }
   }
  },
  {
   "cell_type": "code",
   "execution_count": 1,
   "outputs": [],
   "source": [
    "import pandas as pd\n",
    "import re\n"
   ],
   "metadata": {
    "collapsed": false,
    "pycharm": {
     "name": "#%%\n"
    }
   }
  },
  {
   "cell_type": "markdown",
   "source": [
    "### Описание датасета\n",
    "#### Поля:\n",
    "- id: уникальный id сообщения\n",
    "- text: сообщение из чата в боте знакомств\n",
    "- date: дата отправки сообщения\n",
    "- photo: объект Photo из telethon, из которого в случае необходимости можно получить фотографию\n",
    "### Задача:\n",
    "1. Отобрать сообщения с анкетами и лайком/дизлайком\n"
   ],
   "metadata": {
    "collapsed": false,
    "pycharm": {
     "name": "#%% md\n"
    }
   }
  },
  {
   "cell_type": "code",
   "execution_count": 13,
   "outputs": [],
   "source": [
    "df = pd.read_csv(\"../data/chats.csv\")"
   ],
   "metadata": {
    "collapsed": false,
    "pycharm": {
     "name": "#%%\n"
    }
   }
  },
  {
   "cell_type": "code",
   "execution_count": 14,
   "outputs": [
    {
     "data": {
      "text/plain": "         id                                               text  \\\n0    385914  Ты понравился 1 девушке, показать её?\\r\\n\\r\\n1...   \n1    385913  Бот знакомств Дайвинчик🍷 в Telegram! Найдет др...   \n2    385912  Слишком много ❤️ за сегодня.\\r\\n\\r\\nПригласи д...   \n3    385911                                                 ✨🔍   \n4    385910                                                1 🚀   \n..      ...                                                ...   \n96   385813                                                  👎   \n97   385812  Веточка, 21, Санкт-Петербург – Играю в пабг, э...   \n98   385811                                                  👎   \n99   385810                                                NaN   \n100  385809                                                NaN   \n\n                          date  \\\n0    2023-12-05 09:24:52+00:00   \n1    2023-12-05 08:57:01+00:00   \n2    2023-12-05 08:57:01+00:00   \n3    2023-12-05 08:57:01+00:00   \n4    2023-12-05 08:57:01+00:00   \n..                         ...   \n96   2023-12-05 01:58:44+00:00   \n97   2023-12-05 01:58:41+00:00   \n98   2023-12-05 01:58:41+00:00   \n99   2023-12-05 01:58:35+00:00   \n100  2023-12-05 01:58:35+00:00   \n\n                                                 photo  \n0                                                  NaN  \n1                                                  NaN  \n2                                                  NaN  \n3                                                  NaN  \n4                                                  NaN  \n..                                                 ...  \n96                                                 NaN  \n97   Photo(id=5400046163920540376, access_hash=-257...  \n98                                                 NaN  \n99   Photo(id=5400188387467578424, access_hash=-231...  \n100  Photo(id=5400188387467578426, access_hash=-480...  \n\n[101 rows x 4 columns]",
      "text/html": "<div>\n<style scoped>\n    .dataframe tbody tr th:only-of-type {\n        vertical-align: middle;\n    }\n\n    .dataframe tbody tr th {\n        vertical-align: top;\n    }\n\n    .dataframe thead th {\n        text-align: right;\n    }\n</style>\n<table border=\"1\" class=\"dataframe\">\n  <thead>\n    <tr style=\"text-align: right;\">\n      <th></th>\n      <th>id</th>\n      <th>text</th>\n      <th>date</th>\n      <th>photo</th>\n    </tr>\n  </thead>\n  <tbody>\n    <tr>\n      <th>0</th>\n      <td>385914</td>\n      <td>Ты понравился 1 девушке, показать её?\\r\\n\\r\\n1...</td>\n      <td>2023-12-05 09:24:52+00:00</td>\n      <td>NaN</td>\n    </tr>\n    <tr>\n      <th>1</th>\n      <td>385913</td>\n      <td>Бот знакомств Дайвинчик🍷 в Telegram! Найдет др...</td>\n      <td>2023-12-05 08:57:01+00:00</td>\n      <td>NaN</td>\n    </tr>\n    <tr>\n      <th>2</th>\n      <td>385912</td>\n      <td>Слишком много ❤️ за сегодня.\\r\\n\\r\\nПригласи д...</td>\n      <td>2023-12-05 08:57:01+00:00</td>\n      <td>NaN</td>\n    </tr>\n    <tr>\n      <th>3</th>\n      <td>385911</td>\n      <td>✨🔍</td>\n      <td>2023-12-05 08:57:01+00:00</td>\n      <td>NaN</td>\n    </tr>\n    <tr>\n      <th>4</th>\n      <td>385910</td>\n      <td>1 🚀</td>\n      <td>2023-12-05 08:57:01+00:00</td>\n      <td>NaN</td>\n    </tr>\n    <tr>\n      <th>...</th>\n      <td>...</td>\n      <td>...</td>\n      <td>...</td>\n      <td>...</td>\n    </tr>\n    <tr>\n      <th>96</th>\n      <td>385813</td>\n      <td>👎</td>\n      <td>2023-12-05 01:58:44+00:00</td>\n      <td>NaN</td>\n    </tr>\n    <tr>\n      <th>97</th>\n      <td>385812</td>\n      <td>Веточка, 21, Санкт-Петербург – Играю в пабг, э...</td>\n      <td>2023-12-05 01:58:41+00:00</td>\n      <td>Photo(id=5400046163920540376, access_hash=-257...</td>\n    </tr>\n    <tr>\n      <th>98</th>\n      <td>385811</td>\n      <td>👎</td>\n      <td>2023-12-05 01:58:41+00:00</td>\n      <td>NaN</td>\n    </tr>\n    <tr>\n      <th>99</th>\n      <td>385810</td>\n      <td>NaN</td>\n      <td>2023-12-05 01:58:35+00:00</td>\n      <td>Photo(id=5400188387467578424, access_hash=-231...</td>\n    </tr>\n    <tr>\n      <th>100</th>\n      <td>385809</td>\n      <td>NaN</td>\n      <td>2023-12-05 01:58:35+00:00</td>\n      <td>Photo(id=5400188387467578426, access_hash=-480...</td>\n    </tr>\n  </tbody>\n</table>\n<p>101 rows × 4 columns</p>\n</div>"
     },
     "execution_count": 14,
     "metadata": {},
     "output_type": "execute_result"
    }
   ],
   "source": [
    "df"
   ],
   "metadata": {
    "collapsed": false,
    "pycharm": {
     "name": "#%%\n"
    }
   }
  },
  {
   "cell_type": "code",
   "execution_count": 3,
   "outputs": [
    {
     "data": {
      "text/plain": "        id                                               text  \\\n0   385914  Ты понравился 1 девушке, показать её?\\r\\n\\r\\n1...   \n1   385913  Бот знакомств Дайвинчик🍷 в Telegram! Найдет др...   \n2   385912  Слишком много ❤️ за сегодня.\\r\\n\\r\\nПригласи д...   \n3   385911                                                 ✨🔍   \n4   385910                                                1 🚀   \n..     ...                                                ...   \n94  385815                                                  👎   \n95  385814  Риточка, 20, Санкт-Петербург – твой лучший под...   \n96  385813                                                  👎   \n97  385812  Веточка, 21, Санкт-Петербург – Играю в пабг, э...   \n98  385811                                                  👎   \n\n                         date  \\\n0   2023-12-05 09:24:52+00:00   \n1   2023-12-05 08:57:01+00:00   \n2   2023-12-05 08:57:01+00:00   \n3   2023-12-05 08:57:01+00:00   \n4   2023-12-05 08:57:01+00:00   \n..                        ...   \n94  2023-12-05 01:58:52+00:00   \n95  2023-12-05 01:58:44+00:00   \n96  2023-12-05 01:58:44+00:00   \n97  2023-12-05 01:58:41+00:00   \n98  2023-12-05 01:58:41+00:00   \n\n                                                photo  \n0                                                 NaN  \n1                                                 NaN  \n2                                                 NaN  \n3                                                 NaN  \n4                                                 NaN  \n..                                                ...  \n94                                                NaN  \n95  Photo(id=5409310584471672087, access_hash=4248...  \n96                                                NaN  \n97  Photo(id=5400046163920540376, access_hash=-257...  \n98                                                NaN  \n\n[75 rows x 4 columns]",
      "text/html": "<div>\n<style scoped>\n    .dataframe tbody tr th:only-of-type {\n        vertical-align: middle;\n    }\n\n    .dataframe tbody tr th {\n        vertical-align: top;\n    }\n\n    .dataframe thead th {\n        text-align: right;\n    }\n</style>\n<table border=\"1\" class=\"dataframe\">\n  <thead>\n    <tr style=\"text-align: right;\">\n      <th></th>\n      <th>id</th>\n      <th>text</th>\n      <th>date</th>\n      <th>photo</th>\n    </tr>\n  </thead>\n  <tbody>\n    <tr>\n      <th>0</th>\n      <td>385914</td>\n      <td>Ты понравился 1 девушке, показать её?\\r\\n\\r\\n1...</td>\n      <td>2023-12-05 09:24:52+00:00</td>\n      <td>NaN</td>\n    </tr>\n    <tr>\n      <th>1</th>\n      <td>385913</td>\n      <td>Бот знакомств Дайвинчик🍷 в Telegram! Найдет др...</td>\n      <td>2023-12-05 08:57:01+00:00</td>\n      <td>NaN</td>\n    </tr>\n    <tr>\n      <th>2</th>\n      <td>385912</td>\n      <td>Слишком много ❤️ за сегодня.\\r\\n\\r\\nПригласи д...</td>\n      <td>2023-12-05 08:57:01+00:00</td>\n      <td>NaN</td>\n    </tr>\n    <tr>\n      <th>3</th>\n      <td>385911</td>\n      <td>✨🔍</td>\n      <td>2023-12-05 08:57:01+00:00</td>\n      <td>NaN</td>\n    </tr>\n    <tr>\n      <th>4</th>\n      <td>385910</td>\n      <td>1 🚀</td>\n      <td>2023-12-05 08:57:01+00:00</td>\n      <td>NaN</td>\n    </tr>\n    <tr>\n      <th>...</th>\n      <td>...</td>\n      <td>...</td>\n      <td>...</td>\n      <td>...</td>\n    </tr>\n    <tr>\n      <th>94</th>\n      <td>385815</td>\n      <td>👎</td>\n      <td>2023-12-05 01:58:52+00:00</td>\n      <td>NaN</td>\n    </tr>\n    <tr>\n      <th>95</th>\n      <td>385814</td>\n      <td>Риточка, 20, Санкт-Петербург – твой лучший под...</td>\n      <td>2023-12-05 01:58:44+00:00</td>\n      <td>Photo(id=5409310584471672087, access_hash=4248...</td>\n    </tr>\n    <tr>\n      <th>96</th>\n      <td>385813</td>\n      <td>👎</td>\n      <td>2023-12-05 01:58:44+00:00</td>\n      <td>NaN</td>\n    </tr>\n    <tr>\n      <th>97</th>\n      <td>385812</td>\n      <td>Веточка, 21, Санкт-Петербург – Играю в пабг, э...</td>\n      <td>2023-12-05 01:58:41+00:00</td>\n      <td>Photo(id=5400046163920540376, access_hash=-257...</td>\n    </tr>\n    <tr>\n      <th>98</th>\n      <td>385811</td>\n      <td>👎</td>\n      <td>2023-12-05 01:58:41+00:00</td>\n      <td>NaN</td>\n    </tr>\n  </tbody>\n</table>\n<p>75 rows × 4 columns</p>\n</div>"
     },
     "execution_count": 3,
     "metadata": {},
     "output_type": "execute_result"
    }
   ],
   "source": [
    "df.dropna(subset='text', inplace=True)\n",
    "df"
   ],
   "metadata": {
    "collapsed": false,
    "pycharm": {
     "name": "#%%\n"
    }
   }
  },
  {
   "cell_type": "markdown",
   "source": [
    "#### С помощью регулярных выражений отберем именно анкеты и лайк/дизлайк"
   ],
   "metadata": {
    "collapsed": false,
    "pycharm": {
     "name": "#%% md\n"
    }
   }
  },
  {
   "cell_type": "code",
   "execution_count": 4,
   "outputs": [],
   "source": [
    "count_s = 0\n",
    "count_s1 = 0\n",
    "indeces = []\n",
    "for i, string in enumerate(df['text']):\n",
    "    s = re.findall(\"\\w*.*\\s*,\\s*\\d\\d\\s*,\\s*.*\\s*\", string)\n",
    "    s1 = re.findall('❤|👎', string)\n",
    "    if s:\n",
    "        indeces.append(i)\n",
    "        count_s += 1\n",
    "    if s1:\n",
    "        indeces.append(i)\n",
    "        count_s1 += 1\n",
    "    # if i > 100:\n",
    "    #     break\n"
   ],
   "metadata": {
    "collapsed": false,
    "pycharm": {
     "name": "#%%\n"
    }
   }
  },
  {
   "cell_type": "code",
   "execution_count": 5,
   "outputs": [],
   "source": [
    "# Получим новый датасет с выбранными индексами\n",
    "df = df.iloc [indeces]\n",
    "\n",
    "# Обновим индексы\n",
    "df.index = range(len(df))"
   ],
   "metadata": {
    "collapsed": false,
    "pycharm": {
     "name": "#%%\n"
    }
   }
  },
  {
   "cell_type": "code",
   "execution_count": 6,
   "outputs": [
    {
     "data": {
      "text/plain": "        id                                               text  \\\n0   385912  Слишком много ❤️ за сегодня.\\r\\n\\r\\nПригласи д...   \n1   385904  Стейша, 20, Питер – ••Всем привет••\\r\\n \\r\\n‼️...   \n2   385902            seneka, 20, Санкт-Петербург – open mind   \n3   385892  Слишком много ❤️ за сегодня.\\r\\n\\r\\nПригласи д...   \n4   385891                                                  👎   \n..     ...                                                ...   \n59  385815                                                  👎   \n60  385814  Риточка, 20, Санкт-Петербург – твой лучший под...   \n61  385813                                                  👎   \n62  385812  Веточка, 21, Санкт-Петербург – Играю в пабг, э...   \n63  385811                                                  👎   \n\n                         date  \\\n0   2023-12-05 08:57:01+00:00   \n1   2023-12-05 08:51:01+00:00   \n2   2023-12-05 08:51:01+00:00   \n3   2023-12-05 01:59:59+00:00   \n4   2023-12-05 01:59:59+00:00   \n..                        ...   \n59  2023-12-05 01:58:52+00:00   \n60  2023-12-05 01:58:44+00:00   \n61  2023-12-05 01:58:44+00:00   \n62  2023-12-05 01:58:41+00:00   \n63  2023-12-05 01:58:41+00:00   \n\n                                                photo  \n0                                                 NaN  \n1   Photo(id=5375330577047211296, access_hash=6917...  \n2   Photo(id=5382287096921840307, access_hash=7534...  \n3                                                 NaN  \n4                                                 NaN  \n..                                                ...  \n59                                                NaN  \n60  Photo(id=5409310584471672087, access_hash=4248...  \n61                                                NaN  \n62  Photo(id=5400046163920540376, access_hash=-257...  \n63                                                NaN  \n\n[64 rows x 4 columns]",
      "text/html": "<div>\n<style scoped>\n    .dataframe tbody tr th:only-of-type {\n        vertical-align: middle;\n    }\n\n    .dataframe tbody tr th {\n        vertical-align: top;\n    }\n\n    .dataframe thead th {\n        text-align: right;\n    }\n</style>\n<table border=\"1\" class=\"dataframe\">\n  <thead>\n    <tr style=\"text-align: right;\">\n      <th></th>\n      <th>id</th>\n      <th>text</th>\n      <th>date</th>\n      <th>photo</th>\n    </tr>\n  </thead>\n  <tbody>\n    <tr>\n      <th>0</th>\n      <td>385912</td>\n      <td>Слишком много ❤️ за сегодня.\\r\\n\\r\\nПригласи д...</td>\n      <td>2023-12-05 08:57:01+00:00</td>\n      <td>NaN</td>\n    </tr>\n    <tr>\n      <th>1</th>\n      <td>385904</td>\n      <td>Стейша, 20, Питер – ••Всем привет••\\r\\n \\r\\n‼️...</td>\n      <td>2023-12-05 08:51:01+00:00</td>\n      <td>Photo(id=5375330577047211296, access_hash=6917...</td>\n    </tr>\n    <tr>\n      <th>2</th>\n      <td>385902</td>\n      <td>seneka, 20, Санкт-Петербург – open mind</td>\n      <td>2023-12-05 08:51:01+00:00</td>\n      <td>Photo(id=5382287096921840307, access_hash=7534...</td>\n    </tr>\n    <tr>\n      <th>3</th>\n      <td>385892</td>\n      <td>Слишком много ❤️ за сегодня.\\r\\n\\r\\nПригласи д...</td>\n      <td>2023-12-05 01:59:59+00:00</td>\n      <td>NaN</td>\n    </tr>\n    <tr>\n      <th>4</th>\n      <td>385891</td>\n      <td>👎</td>\n      <td>2023-12-05 01:59:59+00:00</td>\n      <td>NaN</td>\n    </tr>\n    <tr>\n      <th>...</th>\n      <td>...</td>\n      <td>...</td>\n      <td>...</td>\n      <td>...</td>\n    </tr>\n    <tr>\n      <th>59</th>\n      <td>385815</td>\n      <td>👎</td>\n      <td>2023-12-05 01:58:52+00:00</td>\n      <td>NaN</td>\n    </tr>\n    <tr>\n      <th>60</th>\n      <td>385814</td>\n      <td>Риточка, 20, Санкт-Петербург – твой лучший под...</td>\n      <td>2023-12-05 01:58:44+00:00</td>\n      <td>Photo(id=5409310584471672087, access_hash=4248...</td>\n    </tr>\n    <tr>\n      <th>61</th>\n      <td>385813</td>\n      <td>👎</td>\n      <td>2023-12-05 01:58:44+00:00</td>\n      <td>NaN</td>\n    </tr>\n    <tr>\n      <th>62</th>\n      <td>385812</td>\n      <td>Веточка, 21, Санкт-Петербург – Играю в пабг, э...</td>\n      <td>2023-12-05 01:58:41+00:00</td>\n      <td>Photo(id=5400046163920540376, access_hash=-257...</td>\n    </tr>\n    <tr>\n      <th>63</th>\n      <td>385811</td>\n      <td>👎</td>\n      <td>2023-12-05 01:58:41+00:00</td>\n      <td>NaN</td>\n    </tr>\n  </tbody>\n</table>\n<p>64 rows × 4 columns</p>\n</div>"
     },
     "execution_count": 6,
     "metadata": {},
     "output_type": "execute_result"
    }
   ],
   "source": [
    "df"
   ],
   "metadata": {
    "collapsed": false,
    "pycharm": {
     "name": "#%%\n"
    }
   }
  },
  {
   "cell_type": "markdown",
   "source": [
    "#### Отберем только анкеты, после которых был поставлен лайк/дизлайк (и все данные по ним)"
   ],
   "metadata": {
    "collapsed": false,
    "pycharm": {
     "name": "#%% md\n"
    }
   }
  },
  {
   "cell_type": "code",
   "execution_count": 8,
   "outputs": [],
   "source": [
    "messages = []\n",
    "class_type = []\n",
    "dates = []\n",
    "photos = []\n",
    "ID = []\n",
    "for i in range(0, len(df['text'])-1):\n",
    "    sym = df['text'][i]\n",
    "\n",
    "    if sym not in ['❤️', '👎']:\n",
    "        continue\n",
    "    idd = df['id'][i + 1]\n",
    "    mess = df['text'][i + 1]\n",
    "    date = df['date'][i + 1]\n",
    "    photo = df['photo'][i + 1]\n",
    "\n",
    "    messages.append(mess)\n",
    "    class_type.append(sym.split()[0])\n",
    "    dates.append(date)\n",
    "    photos.append(photo)\n",
    "    ID.append(idd)\n",
    "\n",
    "# print(\"Сообщение:\", mess.strip())\n",
    "    # print(\"Оценка:\", sym, '\\n')\n",
    "    # if i > 201:\n",
    "    #     break"
   ],
   "metadata": {
    "collapsed": false,
    "pycharm": {
     "name": "#%%\n"
    }
   }
  },
  {
   "cell_type": "code",
   "execution_count": 9,
   "outputs": [],
   "source": [
    "data = {'id': ID,\n",
    "        'message' : messages,\n",
    "        'class' : class_type,\n",
    "        'date' : dates,\n",
    "        'photo': photos}\n",
    "df = pd.DataFrame(data)"
   ],
   "metadata": {
    "collapsed": false,
    "pycharm": {
     "name": "#%%\n"
    }
   }
  },
  {
   "cell_type": "code",
   "execution_count": 10,
   "outputs": [
    {
     "data": {
      "text/plain": "array(['👎', '❤️'], dtype=object)"
     },
     "execution_count": 10,
     "metadata": {},
     "output_type": "execute_result"
    }
   ],
   "source": [
    "df['class'].unique()"
   ],
   "metadata": {
    "collapsed": false,
    "pycharm": {
     "name": "#%%\n"
    }
   }
  },
  {
   "cell_type": "code",
   "execution_count": 11,
   "outputs": [
    {
     "data": {
      "text/plain": "        id                                            message class  \\\n0   385890                      Nikusik❤, 20, Санкт-Петербург     👎   \n1   385888          Саша, 20, Санкт Петербург – Inst: ff_alei    ❤️   \n2   385885  вi, 20, спб – давайте вместе прыгать по лужам,...     👎   \n3   385881                  Настя, 21, Санкт-Петербург – (21)     👎   \n4   385879  Just, 22, Спб – Как-то грустно и одиноко. Може...     👎   \n5   385876                     Ksyunchik, 20, Санкт-Петербург     👎   \n6   385873  Светлана, 22, Санкт-петербург – Недавно переех...     👎   \n7   385871      севда, 20, Санкт-Петербург – только дружба🙏🏻😭     👎   \n8   385867  Рина, 21, Санкт-Петербург – Хочется найти новы...     👎   \n9   385865      Катя, 22, Санкт-Петербург – Настроение:солнце     👎   \n10  385863  Natalie., 22, Санкт-Петербург – Ищу с кем поех...     👎   \n11  385861               Святой источник, 20, Санкт-Петербург     👎   \n12  385859                         Алёна, 20, Санкт Петербург     👎   \n13  385855  Татьяна, 22, Санкт петербург – Ищу общение,про...     👎   \n14  385851  Лиза, 20, Санкт-Петербург – 🙃\\r\\ninst: lil.liz...     👎   \n15  385848  😪mmmilllianaa🪴, 21, Санкт-Петербург – звать Ми...     👎   \n16  385846  Людмила, 21, Санкт-Петербург – Вялая плюшка \\r...     👎   \n17  385842  Маша💕, 20, Санкт-Петербург – Все кто ищут , on...     👎   \n18  385839  Ксения, 22, Санкт-Петербург – Мне 22 года. Бол...     👎   \n19  385837  Ева, 22, Санкт-Петербург – Кусь кусь, первонач...     👎   \n20  385835                          Соня, 21, Санкт-Петербург     👎   \n21  385831             Ксения, 22, Санкт-Петербург – Рост 176    ❤️   \n22  385829           Alya, 21, Санкт Петербург – При делах ?😂     👎   \n23  385827  Ксения, 21, Санкт-Петербург – Я ищу больше обе...     👎   \n24  385824                      Виктория, 22, Санкт-петербург     👎   \n25  385820  Kristina, 22, Санкт-Петербург – inst:_kkki.0k\\...    ❤️   \n26  385816  Валерия, 20, Санкт-Петербург – (17) — Потому ч...     👎   \n27  385814  Риточка, 20, Санкт-Петербург – твой лучший под...     👎   \n28  385812  Веточка, 21, Санкт-Петербург – Играю в пабг, э...     👎   \n\n                         date  \\\n0   2023-12-05 01:59:58+00:00   \n1   2023-12-05 01:59:53+00:00   \n2   2023-12-05 01:59:52+00:00   \n3   2023-12-05 01:59:51+00:00   \n4   2023-12-05 01:59:48+00:00   \n5   2023-12-05 01:59:47+00:00   \n6   2023-12-05 01:59:46+00:00   \n7   2023-12-05 01:59:44+00:00   \n8   2023-12-05 01:59:42+00:00   \n9   2023-12-05 01:59:41+00:00   \n10  2023-12-05 01:59:40+00:00   \n11  2023-12-05 01:59:38+00:00   \n12  2023-12-05 01:59:37+00:00   \n13  2023-12-05 01:59:35+00:00   \n14  2023-12-05 01:59:34+00:00   \n15  2023-12-05 01:59:31+00:00   \n16  2023-12-05 01:59:30+00:00   \n17  2023-12-05 01:59:28+00:00   \n18  2023-12-05 01:59:22+00:00   \n19  2023-12-05 01:59:19+00:00   \n20  2023-12-05 01:59:17+00:00   \n21  2023-12-05 01:59:13+00:00   \n22  2023-12-05 01:59:12+00:00   \n23  2023-12-05 01:59:10+00:00   \n24  2023-12-05 01:59:06+00:00   \n25  2023-12-05 01:59:01+00:00   \n26  2023-12-05 01:58:52+00:00   \n27  2023-12-05 01:58:44+00:00   \n28  2023-12-05 01:58:41+00:00   \n\n                                                photo  \n0   Photo(id=5372866421165510932, access_hash=-242...  \n1   Photo(id=5298757275869107060, access_hash=-135...  \n2   Photo(id=5436291371456647283, access_hash=-773...  \n3   Photo(id=5199825319840827868, access_hash=2637...  \n4   Photo(id=5299002793379612556, access_hash=7894...  \n5   Photo(id=5382107112022332543, access_hash=-265...  \n6   Photo(id=5395448117962331163, access_hash=-468...  \n7   Photo(id=5420113384998817965, access_hash=-292...  \n8   Photo(id=5237795115660072659, access_hash=-100...  \n9   Photo(id=5433608623214412518, access_hash=9057...  \n10  Photo(id=5429289999238550593, access_hash=7551...  \n11  Photo(id=5422372950113373683, access_hash=4017...  \n12                                                NaN  \n13  Photo(id=5359379558136138625, access_hash=-200...  \n14  Photo(id=5287485559402516361, access_hash=-606...  \n15  Photo(id=5366547325977220159, access_hash=1100...  \n16  Photo(id=5427033805673320983, access_hash=9131...  \n17  Photo(id=5188148437634371349, access_hash=-823...  \n18  Photo(id=5431782652228260867, access_hash=5517...  \n19  Photo(id=5395703071515988668, access_hash=-164...  \n20                                                NaN  \n21  Photo(id=5431610252240999484, access_hash=4969...  \n22  Photo(id=5424685802887173487, access_hash=-559...  \n23  Photo(id=5398026936585933459, access_hash=-801...  \n24  Photo(id=5343639288975313688, access_hash=-721...  \n25  Photo(id=5386769187352989611, access_hash=1560...  \n26  Photo(id=5388949510320935880, access_hash=-424...  \n27  Photo(id=5409310584471672087, access_hash=4248...  \n28  Photo(id=5400046163920540376, access_hash=-257...  ",
      "text/html": "<div>\n<style scoped>\n    .dataframe tbody tr th:only-of-type {\n        vertical-align: middle;\n    }\n\n    .dataframe tbody tr th {\n        vertical-align: top;\n    }\n\n    .dataframe thead th {\n        text-align: right;\n    }\n</style>\n<table border=\"1\" class=\"dataframe\">\n  <thead>\n    <tr style=\"text-align: right;\">\n      <th></th>\n      <th>id</th>\n      <th>message</th>\n      <th>class</th>\n      <th>date</th>\n      <th>photo</th>\n    </tr>\n  </thead>\n  <tbody>\n    <tr>\n      <th>0</th>\n      <td>385890</td>\n      <td>Nikusik❤, 20, Санкт-Петербург</td>\n      <td>👎</td>\n      <td>2023-12-05 01:59:58+00:00</td>\n      <td>Photo(id=5372866421165510932, access_hash=-242...</td>\n    </tr>\n    <tr>\n      <th>1</th>\n      <td>385888</td>\n      <td>Саша, 20, Санкт Петербург – Inst: ff_alei</td>\n      <td>❤️</td>\n      <td>2023-12-05 01:59:53+00:00</td>\n      <td>Photo(id=5298757275869107060, access_hash=-135...</td>\n    </tr>\n    <tr>\n      <th>2</th>\n      <td>385885</td>\n      <td>вi, 20, спб – давайте вместе прыгать по лужам,...</td>\n      <td>👎</td>\n      <td>2023-12-05 01:59:52+00:00</td>\n      <td>Photo(id=5436291371456647283, access_hash=-773...</td>\n    </tr>\n    <tr>\n      <th>3</th>\n      <td>385881</td>\n      <td>Настя, 21, Санкт-Петербург – (21)</td>\n      <td>👎</td>\n      <td>2023-12-05 01:59:51+00:00</td>\n      <td>Photo(id=5199825319840827868, access_hash=2637...</td>\n    </tr>\n    <tr>\n      <th>4</th>\n      <td>385879</td>\n      <td>Just, 22, Спб – Как-то грустно и одиноко. Може...</td>\n      <td>👎</td>\n      <td>2023-12-05 01:59:48+00:00</td>\n      <td>Photo(id=5299002793379612556, access_hash=7894...</td>\n    </tr>\n    <tr>\n      <th>5</th>\n      <td>385876</td>\n      <td>Ksyunchik, 20, Санкт-Петербург</td>\n      <td>👎</td>\n      <td>2023-12-05 01:59:47+00:00</td>\n      <td>Photo(id=5382107112022332543, access_hash=-265...</td>\n    </tr>\n    <tr>\n      <th>6</th>\n      <td>385873</td>\n      <td>Светлана, 22, Санкт-петербург – Недавно переех...</td>\n      <td>👎</td>\n      <td>2023-12-05 01:59:46+00:00</td>\n      <td>Photo(id=5395448117962331163, access_hash=-468...</td>\n    </tr>\n    <tr>\n      <th>7</th>\n      <td>385871</td>\n      <td>севда, 20, Санкт-Петербург – только дружба🙏🏻😭</td>\n      <td>👎</td>\n      <td>2023-12-05 01:59:44+00:00</td>\n      <td>Photo(id=5420113384998817965, access_hash=-292...</td>\n    </tr>\n    <tr>\n      <th>8</th>\n      <td>385867</td>\n      <td>Рина, 21, Санкт-Петербург – Хочется найти новы...</td>\n      <td>👎</td>\n      <td>2023-12-05 01:59:42+00:00</td>\n      <td>Photo(id=5237795115660072659, access_hash=-100...</td>\n    </tr>\n    <tr>\n      <th>9</th>\n      <td>385865</td>\n      <td>Катя, 22, Санкт-Петербург – Настроение:солнце</td>\n      <td>👎</td>\n      <td>2023-12-05 01:59:41+00:00</td>\n      <td>Photo(id=5433608623214412518, access_hash=9057...</td>\n    </tr>\n    <tr>\n      <th>10</th>\n      <td>385863</td>\n      <td>Natalie., 22, Санкт-Петербург – Ищу с кем поех...</td>\n      <td>👎</td>\n      <td>2023-12-05 01:59:40+00:00</td>\n      <td>Photo(id=5429289999238550593, access_hash=7551...</td>\n    </tr>\n    <tr>\n      <th>11</th>\n      <td>385861</td>\n      <td>Святой источник, 20, Санкт-Петербург</td>\n      <td>👎</td>\n      <td>2023-12-05 01:59:38+00:00</td>\n      <td>Photo(id=5422372950113373683, access_hash=4017...</td>\n    </tr>\n    <tr>\n      <th>12</th>\n      <td>385859</td>\n      <td>Алёна, 20, Санкт Петербург</td>\n      <td>👎</td>\n      <td>2023-12-05 01:59:37+00:00</td>\n      <td>NaN</td>\n    </tr>\n    <tr>\n      <th>13</th>\n      <td>385855</td>\n      <td>Татьяна, 22, Санкт петербург – Ищу общение,про...</td>\n      <td>👎</td>\n      <td>2023-12-05 01:59:35+00:00</td>\n      <td>Photo(id=5359379558136138625, access_hash=-200...</td>\n    </tr>\n    <tr>\n      <th>14</th>\n      <td>385851</td>\n      <td>Лиза, 20, Санкт-Петербург – 🙃\\r\\ninst: lil.liz...</td>\n      <td>👎</td>\n      <td>2023-12-05 01:59:34+00:00</td>\n      <td>Photo(id=5287485559402516361, access_hash=-606...</td>\n    </tr>\n    <tr>\n      <th>15</th>\n      <td>385848</td>\n      <td>😪mmmilllianaa🪴, 21, Санкт-Петербург – звать Ми...</td>\n      <td>👎</td>\n      <td>2023-12-05 01:59:31+00:00</td>\n      <td>Photo(id=5366547325977220159, access_hash=1100...</td>\n    </tr>\n    <tr>\n      <th>16</th>\n      <td>385846</td>\n      <td>Людмила, 21, Санкт-Петербург – Вялая плюшка \\r...</td>\n      <td>👎</td>\n      <td>2023-12-05 01:59:30+00:00</td>\n      <td>Photo(id=5427033805673320983, access_hash=9131...</td>\n    </tr>\n    <tr>\n      <th>17</th>\n      <td>385842</td>\n      <td>Маша💕, 20, Санкт-Петербург – Все кто ищут , on...</td>\n      <td>👎</td>\n      <td>2023-12-05 01:59:28+00:00</td>\n      <td>Photo(id=5188148437634371349, access_hash=-823...</td>\n    </tr>\n    <tr>\n      <th>18</th>\n      <td>385839</td>\n      <td>Ксения, 22, Санкт-Петербург – Мне 22 года. Бол...</td>\n      <td>👎</td>\n      <td>2023-12-05 01:59:22+00:00</td>\n      <td>Photo(id=5431782652228260867, access_hash=5517...</td>\n    </tr>\n    <tr>\n      <th>19</th>\n      <td>385837</td>\n      <td>Ева, 22, Санкт-Петербург – Кусь кусь, первонач...</td>\n      <td>👎</td>\n      <td>2023-12-05 01:59:19+00:00</td>\n      <td>Photo(id=5395703071515988668, access_hash=-164...</td>\n    </tr>\n    <tr>\n      <th>20</th>\n      <td>385835</td>\n      <td>Соня, 21, Санкт-Петербург</td>\n      <td>👎</td>\n      <td>2023-12-05 01:59:17+00:00</td>\n      <td>NaN</td>\n    </tr>\n    <tr>\n      <th>21</th>\n      <td>385831</td>\n      <td>Ксения, 22, Санкт-Петербург – Рост 176</td>\n      <td>❤️</td>\n      <td>2023-12-05 01:59:13+00:00</td>\n      <td>Photo(id=5431610252240999484, access_hash=4969...</td>\n    </tr>\n    <tr>\n      <th>22</th>\n      <td>385829</td>\n      <td>Alya, 21, Санкт Петербург – При делах ?😂</td>\n      <td>👎</td>\n      <td>2023-12-05 01:59:12+00:00</td>\n      <td>Photo(id=5424685802887173487, access_hash=-559...</td>\n    </tr>\n    <tr>\n      <th>23</th>\n      <td>385827</td>\n      <td>Ксения, 21, Санкт-Петербург – Я ищу больше обе...</td>\n      <td>👎</td>\n      <td>2023-12-05 01:59:10+00:00</td>\n      <td>Photo(id=5398026936585933459, access_hash=-801...</td>\n    </tr>\n    <tr>\n      <th>24</th>\n      <td>385824</td>\n      <td>Виктория, 22, Санкт-петербург</td>\n      <td>👎</td>\n      <td>2023-12-05 01:59:06+00:00</td>\n      <td>Photo(id=5343639288975313688, access_hash=-721...</td>\n    </tr>\n    <tr>\n      <th>25</th>\n      <td>385820</td>\n      <td>Kristina, 22, Санкт-Петербург – inst:_kkki.0k\\...</td>\n      <td>❤️</td>\n      <td>2023-12-05 01:59:01+00:00</td>\n      <td>Photo(id=5386769187352989611, access_hash=1560...</td>\n    </tr>\n    <tr>\n      <th>26</th>\n      <td>385816</td>\n      <td>Валерия, 20, Санкт-Петербург – (17) — Потому ч...</td>\n      <td>👎</td>\n      <td>2023-12-05 01:58:52+00:00</td>\n      <td>Photo(id=5388949510320935880, access_hash=-424...</td>\n    </tr>\n    <tr>\n      <th>27</th>\n      <td>385814</td>\n      <td>Риточка, 20, Санкт-Петербург – твой лучший под...</td>\n      <td>👎</td>\n      <td>2023-12-05 01:58:44+00:00</td>\n      <td>Photo(id=5409310584471672087, access_hash=4248...</td>\n    </tr>\n    <tr>\n      <th>28</th>\n      <td>385812</td>\n      <td>Веточка, 21, Санкт-Петербург – Играю в пабг, э...</td>\n      <td>👎</td>\n      <td>2023-12-05 01:58:41+00:00</td>\n      <td>Photo(id=5400046163920540376, access_hash=-257...</td>\n    </tr>\n  </tbody>\n</table>\n</div>"
     },
     "execution_count": 11,
     "metadata": {},
     "output_type": "execute_result"
    }
   ],
   "source": [
    "df.drop_duplicates(subset=['message'], inplace=True)\n",
    "df"
   ],
   "metadata": {
    "collapsed": false,
    "pycharm": {
     "name": "#%%\n"
    }
   }
  },
  {
   "cell_type": "code",
   "execution_count": 14,
   "outputs": [],
   "source": [
    "# df.to_csv('../data/to_test.csv' )"
   ],
   "metadata": {
    "collapsed": false,
    "pycharm": {
     "name": "#%%\n"
    }
   }
  },
  {
   "cell_type": "code",
   "execution_count": 12,
   "outputs": [
    {
     "data": {
      "text/plain": "\"Photo(id=5372866421165510932, access_hash=-2428156455912618500, file_reference=b'\\\\x01\\\\x00\\\\x05\\\\xe3beo\\\\x14t\\\\x07\\\\xe8\\\\xa6-\\\\xb1\\\\xe1\\\\xec\\\\xdb\\\\xb9\\\\x99Y\\\\xf4\\\\xa6\\\\xc5\\\\x0f\\\\xad', date=datetime.datetime(2023, 11, 13, 10, 53, tzinfo=datetime.timezone.utc), sizes=[PhotoStrippedSize(type='i', bytes=b'\\\\x01(\\\\x13\\\\xce\\\\xe8)\\\\x99lg\\\\x8aW8\\\\\\\\z\\\\xd3N1\\\\x8a\\\\xe8d!\\\\xe0\\\\xe4f\\\\x8a\\\\x88\\\\x13\\\\x8a*9\\\\x87\\\\xcaJWr\\\\x8ei\\\\x8e1\\\\x81\\\\x9aPB\\\\x8e\\\\r5\\\\xdbu9l\\\\x0bp\\\\x03\\\\x8e\\\\x94Rf\\\\x8aZ\\\\x0cJ(\\\\xa2\\\\xb3\\\\xbd\\\\xca\\\\n(\\\\xa2\\\\x80?'), PhotoSize(type='m', w=153, h=320, size=6936), PhotoSize(type='x', w=383, h=800, size=39075), PhotoSizeProgressive(type='y', w=613, h=1280, sizes=[9433, 16828, 21969, 54868, 92407])], dc_id=2, has_stickers=False, video_sizes=[])\""
     },
     "execution_count": 12,
     "metadata": {},
     "output_type": "execute_result"
    }
   ],
   "source": [],
   "metadata": {
    "collapsed": false,
    "pycharm": {
     "name": "#%%\n"
    }
   }
  },
  {
   "cell_type": "code",
   "execution_count": 191,
   "outputs": [],
   "source": [],
   "metadata": {
    "collapsed": false,
    "pycharm": {
     "name": "#%%\n"
    }
   }
  }
 ],
 "metadata": {
  "kernelspec": {
   "display_name": "Python 3",
   "language": "python",
   "name": "python3"
  },
  "language_info": {
   "codemirror_mode": {
    "name": "ipython",
    "version": 2
   },
   "file_extension": ".py",
   "mimetype": "text/x-python",
   "name": "python",
   "nbconvert_exporter": "python",
   "pygments_lexer": "ipython2",
   "version": "2.7.6"
  }
 },
 "nbformat": 4,
 "nbformat_minor": 0
}